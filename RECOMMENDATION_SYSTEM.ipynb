{
  "nbformat": 4,
  "nbformat_minor": 0,
  "metadata": {
    "colab": {
      "provenance": [],
      "authorship_tag": "ABX9TyOu9b2gYadseWrUImpB+W9q",
      "include_colab_link": true
    },
    "kernelspec": {
      "name": "python3",
      "display_name": "Python 3"
    },
    "language_info": {
      "name": "python"
    }
  },
  "cells": [
    {
      "cell_type": "markdown",
      "metadata": {
        "id": "view-in-github",
        "colab_type": "text"
      },
      "source": [
        "<a href=\"https://colab.research.google.com/github/Kushi2407/Codsoft_1/blob/main/RECOMMENDATION_SYSTEM.ipynb\" target=\"_parent\"><img src=\"https://colab.research.google.com/assets/colab-badge.svg\" alt=\"Open In Colab\"/></a>"
      ]
    },
    {
      "cell_type": "code",
      "execution_count": 1,
      "metadata": {
        "id": "IdoBHAx-NYui"
      },
      "outputs": [],
      "source": [
        "import pandas as pd\n",
        "from surprise import Dataset, Reader, KNNBasic\n",
        "from surprise.model_selection import train_test_split\n",
        "\n",
        "# Load the MovieLens dataset (you can download it from https://grouplens.org/datasets/movielens/)\n",
        "# Replace 'ratings.csv' with the actual file path to your dataset.\n",
        "data = pd.read_csv('ratings.csv')\n",
        "reader = Reader(rating_scale=(1, 5))\n",
        "\n",
        "# Load data into Surprise Dataset format\n",
        "data = Dataset.load_from_df(data[['userId', 'movieId', 'rating']], reader)\n",
        "\n",
        "# Split the data into training and testing sets\n",
        "trainset, testset = train_test_split(data, test_size=0.2)\n",
        "\n",
        "# Build and train the collaborative filtering model (User-based collaborative filtering)\n",
        "sim_options = {\n",
        "    'name': 'cosine',\n",
        "    'user_based': True  # User-based collaborative filtering\n",
        "}\n",
        "model = KNNBasic(sim_options=sim_options)\n",
        "model.fit(trainset)\n",
        "\n",
        "# Make recommendations for a specific user (replace 'user_id' with the desired user ID)\n",
        "user_id = 1\n",
        "user_movies = data[data['userId'] == user_id]['movieId']\n",
        "user_unseen_movies = data[~data['movieId'].isin(user_movies)]['movieId']\n",
        "\n",
        "# Predict ratings for unseen movies\n",
        "predictions = []\n",
        "for movie_id in user_unseen_movies:\n",
        "    predicted_rating = model.predict(user_id, movie_id).est\n",
        "    predictions.append({'movieId': movie_id, 'predicted_rating': predicted_rating})\n",
        "\n",
        "# Sort recommendations by predicted rating\n",
        "recommendations = sorted(predictions, key=lambda x: x['predicted_rating'], reverse=True)\n",
        "\n",
        "# Print the top N recommended movies (e.g., top 10)\n",
        "top_n = 10\n",
        "top_movies = recommendations[:top_n]\n",
        "print(f\"Top {top_n} movie recommendations for user {user_id}:\")\n",
        "for movie in top_movies:\n",
        "    print(f\"Movie ID: {movie['movieId']} - Predicted Rating: {movie['predicted_rating']:.2f}\")\n"
      ]
    }
  ]
}